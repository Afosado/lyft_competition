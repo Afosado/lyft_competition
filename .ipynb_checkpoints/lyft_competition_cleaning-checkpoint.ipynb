{
 "cells": [
  {
   "cell_type": "markdown",
   "metadata": {},
   "source": [
    "Below is the data cleaning process used in order to get the the driver_full table. 837 of the 937 drivers present in the driver_ids.csv file are present in the driver_full table. Drivers were dropped from the driver_full table due to missing data that we deemed essential for our analysis. At the bottom of this notebook is a key for the driver_full table columns and the first few rows of the table."
   ]
  },
  {
   "cell_type": "code",
   "execution_count": 1,
   "metadata": {},
   "outputs": [],
   "source": [
    "import pandas as pd\n",
    "import numpy as np\n",
    "import seaborn as sns\n",
    "import matplotlib.pyplot as plt"
   ]
  },
  {
   "cell_type": "code",
   "execution_count": 2,
   "metadata": {},
   "outputs": [],
   "source": [
    "#Read in tables\n",
    "drivers = pd.read_csv('../driver_ids.csv')\n",
    "rides = pd.read_csv('../ride_ids.csv')\n",
    "rides_ts = pd.read_csv('../ride_timestamps.csv')"
   ]
  },
  {
   "cell_type": "code",
   "execution_count": 3,
   "metadata": {},
   "outputs": [],
   "source": [
    "#Get rid of rides with a negative distance\n",
    "rides = rides[rides['ride_distance']>=0]\n",
    "#Convert timestamps to datetime objects\n",
    "drivers['driver_onboard_date'] = pd.to_datetime(drivers['driver_onboard_date'])\n",
    "rides_ts['timestamp'] = pd.to_datetime(rides_ts['timestamp'])"
   ]
  },
  {
   "cell_type": "code",
   "execution_count": 4,
   "metadata": {},
   "outputs": [],
   "source": [
    "#merge drivers and riders tables\n",
    "drivers_and_rides = drivers.merge(rides, how='right', on='driver_id')\n",
    "#calculate the estimated fare for each ride\n",
    "meters_to_miles = 1609.344\n",
    "seconds_to_mins = 60\n",
    "base_fare = 2\n",
    "mile_cost = 1.15\n",
    "minute_cost = .22\n",
    "service_fee = 1.75\n",
    "drivers_and_rides['ride_distance'] = drivers_and_rides['ride_distance']/meters_to_miles\n",
    "drivers_and_rides['ride_duration'] = drivers_and_rides['ride_duration']/seconds_to_mins\n",
    "drivers_and_rides['ride_fare'] = drivers_and_rides['ride_distance']*mile_cost+\\\n",
    "    drivers_and_rides['ride_duration']*minute_cost+base_fare\n",
    "drivers_and_rides['ride_fare']=drivers_and_rides['ride_fare']*\\\n",
    "    (1+drivers_and_rides['ride_prime_time']/100)+service_fee\n",
    "drivers_and_rides['is_prime'] = drivers_and_rides['ride_prime_time']>0"
   ]
  },
  {
   "cell_type": "code",
   "execution_count": 5,
   "metadata": {},
   "outputs": [],
   "source": [
    "#calculate the total prime time, total estimated fares and total number of rides\n",
    "total_fares = drivers_and_rides.groupby('driver_id')['ride_fare'].apply(np.sum)\n",
    "total_rides = drivers_and_rides.groupby('driver_id')['ride_fare'].apply(np.count_nonzero)\n",
    "total_prime = drivers_and_rides.groupby('driver_id')['is_prime'].apply(np.mean)*100\n",
    "total_fares = pd.DataFrame(total_fares)\n",
    "total_fares = total_fares.rename(columns={'ride_fare': 'total_fares'})\n",
    "total_rides = pd.DataFrame(total_rides)\n",
    "total_rides = total_rides.rename(columns={'ride_fare': 'num_rides'})\n",
    "total_prime = pd.DataFrame(total_prime)\n",
    "total_prime = total_prime.rename(columns={'is_prime': 'percent_prime'})"
   ]
  },
  {
   "cell_type": "code",
   "execution_count": 6,
   "metadata": {},
   "outputs": [],
   "source": [
    "#combine all the previous calculations into one table\n",
    "driver_info = total_fares.merge(total_rides, how='inner', on='driver_id')\n",
    "driver_info = driver_info.merge(total_prime, how='inner', on='driver_id')\n",
    "driver_info['num_prime'] = np.round(driver_info['percent_prime']*driver_info['num_rides'])"
   ]
  },
  {
   "cell_type": "code",
   "execution_count": 7,
   "metadata": {},
   "outputs": [],
   "source": [
    "#calculate average time between whem ride was accepted and when the rider was picked up for each driver\n",
    "new_rides_ts = rides_ts.copy()\n",
    "new_rides_ts = new_rides_ts.set_index('ride_id')\n",
    "r_accepted = rides_ts[rides_ts['event']=='accepted_at']\n",
    "r_picked = rides_ts[rides_ts['event']=='picked_up_at']\n",
    "rides_pickup = r_accepted.merge(r_picked, how='inner', on='ride_id')\n",
    "rides_pickup['pickup_time'] = rides_pickup['timestamp_y'] - rides_pickup['timestamp_x']\n",
    "rides_pickup = rides_pickup[['ride_id', 'pickup_time']]\n",
    "rides_pickup = rides_pickup.merge(rides, how='inner', on='ride_id')\n",
    "driver_with_pickup = rides_pickup.merge(drivers, how='right', on='driver_id')\n",
    "driver_with_pickup = pd.DataFrame(driver_with_pickup.groupby('driver_id')['pickup_time'].apply(np.mean))\n",
    "#merge with rest of data\n",
    "driver_full = driver_with_pickup.merge(driver_info, how='left', on='driver_id')\n",
    "#convert pickup time to minutes\n",
    "driver_full['pickup_time'] = driver_full['pickup_time'].dt.total_seconds().div(60)"
   ]
  },
  {
   "cell_type": "code",
   "execution_count": 9,
   "metadata": {},
   "outputs": [],
   "source": [
    "#calculate lifetime and time inactive\n",
    "full_rides = rides.merge(rides_ts[rides_ts['event']=='dropped_off_at'], how='left', on='ride_id')\n",
    "latest_rides = pd.DataFrame(full_rides.groupby('driver_id')['timestamp'].apply(np.max))\n",
    "driver_lifetime = latest_rides.merge(drivers, how='right', on='driver_id')\n",
    "driver_lifetime['lifetime']=driver_lifetime['timestamp']-driver_lifetime['driver_onboard_date']\n",
    "end_time = np.max(driver_lifetime['timestamp'])\n",
    "driver_lifetime['time_inactive']=end_time-driver_lifetime['timestamp']\n",
    "driver_lifetime = driver_lifetime.set_index('driver_id')\n",
    "driver_lifetime = driver_lifetime[['lifetime', 'time_inactive']]\n",
    "#merge with rest of data\n",
    "driver_full = driver_full.merge(driver_lifetime, how='left', on='driver_id')\n",
    "#convert datetimes to days\n",
    "driver_full['lifetime'] = driver_full['lifetime'].dt.days\n",
    "driver_full['time_inactive'] = driver_full['time_inactive'].dt.days\n",
    "#add rides per day column\n",
    "driver_full['rides_per_day'] = driver_full['num_rides']/driver_full['lifetime']"
   ]
  },
  {
   "cell_type": "code",
   "execution_count": 15,
   "metadata": {},
   "outputs": [],
   "source": [
    "#drop rows with null values (in total 100 drivers were dropped throughout the whole cleaning processe\n",
    "#which we believe to be an acceptable amount)\n",
    "driver_full = driver_full.dropna(how='all')"
   ]
  },
  {
   "cell_type": "code",
   "execution_count": 13,
   "metadata": {},
   "outputs": [],
   "source": [
    "#save to csv file\n",
    "driver_full.to_csv('../driver_full.csv')"
   ]
  },
  {
   "cell_type": "code",
   "execution_count": 14,
   "metadata": {},
   "outputs": [
    {
     "data": {
      "text/html": [
       "<div>\n",
       "<style scoped>\n",
       "    .dataframe tbody tr th:only-of-type {\n",
       "        vertical-align: middle;\n",
       "    }\n",
       "\n",
       "    .dataframe tbody tr th {\n",
       "        vertical-align: top;\n",
       "    }\n",
       "\n",
       "    .dataframe thead th {\n",
       "        text-align: right;\n",
       "    }\n",
       "</style>\n",
       "<table border=\"1\" class=\"dataframe\">\n",
       "  <thead>\n",
       "    <tr style=\"text-align: right;\">\n",
       "      <th></th>\n",
       "      <th>pickup_time</th>\n",
       "      <th>total_fares</th>\n",
       "      <th>num_rides</th>\n",
       "      <th>percent_prime</th>\n",
       "      <th>num_prime</th>\n",
       "      <th>lifetime</th>\n",
       "      <th>time_inactive</th>\n",
       "      <th>rides_per_day</th>\n",
       "    </tr>\n",
       "    <tr>\n",
       "      <th>driver_id</th>\n",
       "      <th></th>\n",
       "      <th></th>\n",
       "      <th></th>\n",
       "      <th></th>\n",
       "      <th></th>\n",
       "      <th></th>\n",
       "      <th></th>\n",
       "      <th></th>\n",
       "    </tr>\n",
       "  </thead>\n",
       "  <tbody>\n",
       "    <tr>\n",
       "      <th>002be0ffdc997bd5c50703158b7c2491</th>\n",
       "      <td>2.970337</td>\n",
       "      <td>3560.546265</td>\n",
       "      <td>277.0</td>\n",
       "      <td>39.711191</td>\n",
       "      <td>11000.0</td>\n",
       "      <td>86.0</td>\n",
       "      <td>3.0</td>\n",
       "      <td>3.220930</td>\n",
       "    </tr>\n",
       "    <tr>\n",
       "      <th>007f0389f9c7b03ef97098422f902e62</th>\n",
       "      <td>3.033871</td>\n",
       "      <td>321.494698</td>\n",
       "      <td>31.0</td>\n",
       "      <td>38.709677</td>\n",
       "      <td>1200.0</td>\n",
       "      <td>85.0</td>\n",
       "      <td>4.0</td>\n",
       "      <td>0.364706</td>\n",
       "    </tr>\n",
       "    <tr>\n",
       "      <th>011e5c5dfc5c2c92501b8b24d47509bc</th>\n",
       "      <td>3.788725</td>\n",
       "      <td>482.427855</td>\n",
       "      <td>34.0</td>\n",
       "      <td>47.058824</td>\n",
       "      <td>1600.0</td>\n",
       "      <td>68.0</td>\n",
       "      <td>14.0</td>\n",
       "      <td>0.500000</td>\n",
       "    </tr>\n",
       "    <tr>\n",
       "      <th>0152a2f305e71d26cc964f8d4411add9</th>\n",
       "      <td>4.000698</td>\n",
       "      <td>2608.898772</td>\n",
       "      <td>191.0</td>\n",
       "      <td>25.130890</td>\n",
       "      <td>4800.0</td>\n",
       "      <td>64.0</td>\n",
       "      <td>0.0</td>\n",
       "      <td>2.984375</td>\n",
       "    </tr>\n",
       "    <tr>\n",
       "      <th>01674381af7edd264113d4e6ed55ecda</th>\n",
       "      <td>3.744933</td>\n",
       "      <td>5380.967089</td>\n",
       "      <td>375.0</td>\n",
       "      <td>26.400000</td>\n",
       "      <td>9900.0</td>\n",
       "      <td>56.0</td>\n",
       "      <td>2.0</td>\n",
       "      <td>6.696429</td>\n",
       "    </tr>\n",
       "  </tbody>\n",
       "</table>\n",
       "</div>"
      ],
      "text/plain": [
       "                                  pickup_time  total_fares  num_rides  \\\n",
       "driver_id                                                               \n",
       "002be0ffdc997bd5c50703158b7c2491     2.970337  3560.546265      277.0   \n",
       "007f0389f9c7b03ef97098422f902e62     3.033871   321.494698       31.0   \n",
       "011e5c5dfc5c2c92501b8b24d47509bc     3.788725   482.427855       34.0   \n",
       "0152a2f305e71d26cc964f8d4411add9     4.000698  2608.898772      191.0   \n",
       "01674381af7edd264113d4e6ed55ecda     3.744933  5380.967089      375.0   \n",
       "\n",
       "                                  percent_prime  num_prime  lifetime  \\\n",
       "driver_id                                                              \n",
       "002be0ffdc997bd5c50703158b7c2491      39.711191    11000.0      86.0   \n",
       "007f0389f9c7b03ef97098422f902e62      38.709677     1200.0      85.0   \n",
       "011e5c5dfc5c2c92501b8b24d47509bc      47.058824     1600.0      68.0   \n",
       "0152a2f305e71d26cc964f8d4411add9      25.130890     4800.0      64.0   \n",
       "01674381af7edd264113d4e6ed55ecda      26.400000     9900.0      56.0   \n",
       "\n",
       "                                  time_inactive  rides_per_day  \n",
       "driver_id                                                       \n",
       "002be0ffdc997bd5c50703158b7c2491            3.0       3.220930  \n",
       "007f0389f9c7b03ef97098422f902e62            4.0       0.364706  \n",
       "011e5c5dfc5c2c92501b8b24d47509bc           14.0       0.500000  \n",
       "0152a2f305e71d26cc964f8d4411add9            0.0       2.984375  \n",
       "01674381af7edd264113d4e6ed55ecda            2.0       6.696429  "
      ]
     },
     "execution_count": 14,
     "metadata": {},
     "output_type": "execute_result"
    }
   ],
   "source": [
    "driver_full.head()"
   ]
  },
  {
   "cell_type": "markdown",
   "metadata": {},
   "source": [
    "# Table Key"
   ]
  },
  {
   "cell_type": "markdown",
   "metadata": {},
   "source": [
    "driver_id: Unique identifier for a driver\n",
    "\n",
    "pickup_time: Average time between when a driver accepted a passenger request and when the passenger was picked up\n",
    "\n",
    "total_fares: Total fare collected by driver including fees and prime time applied in US dollars\n",
    "\n",
    "num_rides: Total number of rides by driver\n",
    "\n",
    "percent_prime: Percent of driver's rides with prime time applied\n",
    "\n",
    "num_prime: Number of rides with prime time applied\n",
    "\n",
    "lifetime: Days between onboard date and most recent ride\n",
    "\n",
    "time_inactive: Days between most recent ride and the last date of the data set\n",
    "\n",
    "rides_per_day: Estimated number of rides per day (num_rides/lifetime)"
   ]
  }
 ],
 "metadata": {
  "kernelspec": {
   "display_name": "Python 3",
   "language": "python",
   "name": "python3"
  },
  "language_info": {
   "codemirror_mode": {
    "name": "ipython",
    "version": 3
   },
   "file_extension": ".py",
   "mimetype": "text/x-python",
   "name": "python",
   "nbconvert_exporter": "python",
   "pygments_lexer": "ipython3",
   "version": "3.6.3"
  }
 },
 "nbformat": 4,
 "nbformat_minor": 2
}
